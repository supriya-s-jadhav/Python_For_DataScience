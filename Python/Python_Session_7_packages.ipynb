{
 "cells": [
  {
   "cell_type": "markdown",
   "id": "ee1d02e6-9ff0-41bb-bb5c-609813c8e90e",
   "metadata": {},
   "source": [
    "## Packages"
   ]
  },
  {
   "cell_type": "markdown",
   "id": "5ad5a4b9-34fa-4afa-92ac-f540a43c8b57",
   "metadata": {},
   "source": [
    "**import**"
   ]
  },
  {
   "cell_type": "code",
   "execution_count": 4,
   "id": "a384019c-60a8-485c-a468-2eb575fe865d",
   "metadata": {},
   "outputs": [],
   "source": [
    "# import <package name>"
   ]
  },
  {
   "cell_type": "code",
   "execution_count": 6,
   "id": "0f5e94fb-decc-4d89-bdcd-a08aa82e1c68",
   "metadata": {},
   "outputs": [],
   "source": [
    "# package name : random\n",
    "import random"
   ]
  },
  {
   "cell_type": "code",
   "execution_count": 8,
   "id": "e9639a6a-a2ae-4bba-9636-fcc4970bb7a5",
   "metadata": {},
   "outputs": [],
   "source": [
    "# package name : math\n",
    "import math"
   ]
  },
  {
   "cell_type": "code",
   "execution_count": 10,
   "id": "7e7fbfaf-ee83-4f70-8c05-3dc20dd8e429",
   "metadata": {},
   "outputs": [],
   "source": [
    "# package name : keyword\n",
    "import keyword"
   ]
  },
  {
   "cell_type": "code",
   "execution_count": 12,
   "id": "1a779b8d-7c45-415d-b9bc-9bb30cf525f7",
   "metadata": {},
   "outputs": [],
   "source": [
    "# package name : string\n",
    "import string"
   ]
  },
  {
   "cell_type": "code",
   "execution_count": 14,
   "id": "0f9b500a-45d6-4717-a97d-cc89fde87de1",
   "metadata": {},
   "outputs": [],
   "source": [
    "#package name : time\n",
    "import time"
   ]
  },
  {
   "cell_type": "code",
   "execution_count": 16,
   "id": "1f16495b-dfa8-4253-99f9-f1c34fffe7ed",
   "metadata": {},
   "outputs": [],
   "source": [
    "# package name : cv2"
   ]
  },
  {
   "cell_type": "code",
   "execution_count": 18,
   "id": "6ffbccae-0bce-48c7-82ab-04f91dfe1e56",
   "metadata": {},
   "outputs": [],
   "source": [
    "import cv2"
   ]
  },
  {
   "cell_type": "code",
   "execution_count": 24,
   "id": "31de28ed-8c1a-40af-abf2-21d86771edc9",
   "metadata": {},
   "outputs": [
    {
     "data": {
      "text/plain": [
       "<module 'random' from '/opt/anaconda3/lib/python3.12/random.py'>"
      ]
     },
     "execution_count": 24,
     "metadata": {},
     "output_type": "execute_result"
    }
   ],
   "source": [
    "random"
   ]
  },
  {
   "cell_type": "markdown",
   "id": "db50ea1d-1ea2-4b5d-a8cc-b8e56ee5b5c8",
   "metadata": {},
   "source": [
    "**dir**"
   ]
  },
  {
   "cell_type": "code",
   "execution_count": 38,
   "id": "fb7972fb-8eb8-4b1e-98bd-85187a4aaeab",
   "metadata": {},
   "outputs": [
    {
     "name": "stdout",
     "output_type": "stream",
     "text": [
      "Help on method randint in module random:\n",
      "\n",
      "randint(a, b) method of random.Random instance\n",
      "    Return random integer in range [a, b], including both end points.\n",
      "\n"
     ]
    }
   ],
   "source": [
    "# step 1 : import <package name>\n",
    "# step 2 : dir(<package name>)\n",
    "# step 3 : <package name>.<method name>\n",
    "import random \n",
    "dir(random)\n",
    "help(random.randint)"
   ]
  },
  {
   "cell_type": "markdown",
   "id": "4a7deb52-229f-4b1e-b6d9-745b793ff227",
   "metadata": {},
   "source": [
    "**help**"
   ]
  },
  {
   "cell_type": "code",
   "execution_count": 34,
   "id": "cfdd66b9-de6d-4fd0-a2cb-9451552404d0",
   "metadata": {},
   "outputs": [
    {
     "name": "stdout",
     "output_type": "stream",
     "text": [
      "Help on method randint in module random:\n",
      "\n",
      "randint(a, b) method of random.Random instance\n",
      "    Return random integer in range [a, b], including both end points.\n",
      "\n"
     ]
    }
   ],
   "source": [
    "\n"
   ]
  },
  {
   "cell_type": "code",
   "execution_count": null,
   "id": "c8b03ec1-deaa-418f-b2e7-8b3e7cbd47fb",
   "metadata": {},
   "outputs": [],
   "source": []
  }
 ],
 "metadata": {
  "kernelspec": {
   "display_name": "Python 3 (ipykernel)",
   "language": "python",
   "name": "python3"
  },
  "language_info": {
   "codemirror_mode": {
    "name": "ipython",
    "version": 3
   },
   "file_extension": ".py",
   "mimetype": "text/x-python",
   "name": "python",
   "nbconvert_exporter": "python",
   "pygments_lexer": "ipython3",
   "version": "3.12.7"
  }
 },
 "nbformat": 4,
 "nbformat_minor": 5
}
