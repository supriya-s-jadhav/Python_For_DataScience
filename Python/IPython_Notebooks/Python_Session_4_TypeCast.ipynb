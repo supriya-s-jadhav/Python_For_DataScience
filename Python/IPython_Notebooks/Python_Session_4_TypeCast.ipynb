{
 "cells": [
  {
   "cell_type": "markdown",
   "id": "4f2795d9-d9fd-4736-9bf7-7e2162a4da0b",
   "metadata": {},
   "source": [
    "**Type Cast**\n",
    "- Changing one data type to another data types"
   ]
  },
  {
   "cell_type": "markdown",
   "id": "90279e81-d0a5-4f55-9f44-bbb83b3a7663",
   "metadata": {},
   "source": [
    "**int to other data types**\n",
    "- int to floa\n",
    "- int to str\n",
    "- int to bool"
   ]
  },
  {
   "cell_type": "code",
   "execution_count": 5,
   "id": "0f3b1089-4598-442e-a3e3-77c8cd9f97db",
   "metadata": {},
   "outputs": [
    {
     "data": {
      "text/plain": [
       "int"
      ]
     },
     "execution_count": 5,
     "metadata": {},
     "output_type": "execute_result"
    }
   ],
   "source": [
    "num=100\n",
    "type(num)"
   ]
  },
  {
   "cell_type": "code",
   "execution_count": 15,
   "id": "54836273-3b05-45c2-8f75-2c14927d280f",
   "metadata": {},
   "outputs": [
    {
     "data": {
      "text/plain": [
       "(100.0, float)"
      ]
     },
     "execution_count": 15,
     "metadata": {},
     "output_type": "execute_result"
    }
   ],
   "source": [
    "# int to float\n",
    "\n",
    "float_con=float(num)\n",
    "float_con, type(float_con)\n"
   ]
  },
  {
   "cell_type": "code",
   "execution_count": 22,
   "id": "76d3005e-8ae9-469a-aa85-9cf07518f0d3",
   "metadata": {},
   "outputs": [
    {
     "data": {
      "text/plain": [
       "('100', str)"
      ]
     },
     "execution_count": 22,
     "metadata": {},
     "output_type": "execute_result"
    }
   ],
   "source": [
    "# int to string\n",
    "\n",
    "str_con=str(num)\n",
    "str_con, type(str_con)"
   ]
  },
  {
   "cell_type": "code",
   "execution_count": 25,
   "id": "b294d51f-a245-47bb-9976-b0907e963c2a",
   "metadata": {},
   "outputs": [
    {
     "data": {
      "text/plain": [
       "True"
      ]
     },
     "execution_count": 25,
     "metadata": {},
     "output_type": "execute_result"
    }
   ],
   "source": [
    "# int to bool\n",
    "\n",
    "bool(num)"
   ]
  },
  {
   "cell_type": "code",
   "execution_count": 31,
   "id": "789f24ae-3485-4cc3-acff-b3c4c9ce400e",
   "metadata": {},
   "outputs": [
    {
     "name": "stdout",
     "output_type": "stream",
     "text": [
      "100.0\n",
      "100\n",
      "True\n"
     ]
    }
   ],
   "source": [
    "print(float(100))\n",
    "print(str(100))\n",
    "print(bool(100))"
   ]
  },
  {
   "cell_type": "code",
   "execution_count": 33,
   "id": "e02f5423-a195-4889-bd2e-bcf097131042",
   "metadata": {},
   "outputs": [
    {
     "name": "stdout",
     "output_type": "stream",
     "text": [
      "-100.0\n",
      "-100\n",
      "True\n"
     ]
    }
   ],
   "source": [
    "print(float(-100))\n",
    "print(str(-100))\n",
    "print(bool(-100))"
   ]
  },
  {
   "cell_type": "code",
   "execution_count": 35,
   "id": "f2e0ec87-661d-41cf-ac37-47061058c82c",
   "metadata": {},
   "outputs": [
    {
     "name": "stdout",
     "output_type": "stream",
     "text": [
      "0.0\n",
      "0\n",
      "False\n"
     ]
    }
   ],
   "source": [
    "print(float(0))\n",
    "print(str(0))\n",
    "print(bool(0))"
   ]
  },
  {
   "cell_type": "markdown",
   "id": "37ea3336-9eeb-48d6-9ee7-4ebf044aeb6b",
   "metadata": {},
   "source": [
    "**Note**\n",
    "- Boolean conversion of any integer value other than zero becomes True\n",
    "- Boolean conversion of Zero is False"
   ]
  },
  {
   "cell_type": "markdown",
   "id": "1ba7b37f-8c36-4b62-83c1-d0db6f2bf927",
   "metadata": {},
   "source": [
    "**Float to other data types**"
   ]
  },
  {
   "cell_type": "code",
   "execution_count": 44,
   "id": "c2d23b40-6fd9-48e2-b180-0b9d654866e5",
   "metadata": {},
   "outputs": [
    {
     "name": "stdout",
     "output_type": "stream",
     "text": [
      "100\n",
      "100.25\n",
      "True\n"
     ]
    }
   ],
   "source": [
    "print(int(100.25))\n",
    "print(str(100.25))\n",
    "print(bool(100.25))"
   ]
  },
  {
   "cell_type": "code",
   "execution_count": 46,
   "id": "77aa1078-7043-4d7b-8240-e31392714759",
   "metadata": {},
   "outputs": [
    {
     "name": "stdout",
     "output_type": "stream",
     "text": [
      "-100\n",
      "-100.25\n",
      "True\n"
     ]
    }
   ],
   "source": [
    "print(int(-100.25))\n",
    "print(str(-100.25))\n",
    "print(bool(-100.25))"
   ]
  },
  {
   "cell_type": "code",
   "execution_count": 48,
   "id": "6ea52d6d-deda-454b-af83-bacec0d6f495",
   "metadata": {},
   "outputs": [
    {
     "name": "stdout",
     "output_type": "stream",
     "text": [
      "0\n",
      "0.0\n",
      "False\n"
     ]
    }
   ],
   "source": [
    "print(int(0.0))\n",
    "print(str(0.0))\n",
    "print(bool(0.0))"
   ]
  },
  {
   "cell_type": "markdown",
   "id": "31737a3e-83cc-44ae-918c-03051d4fba6c",
   "metadata": {},
   "source": [
    "**String to Other data types**"
   ]
  },
  {
   "cell_type": "code",
   "execution_count": 57,
   "id": "54f20210-9c03-4ef9-89be-5f6966da5ad8",
   "metadata": {},
   "outputs": [
    {
     "data": {
      "text/plain": [
       "True"
      ]
     },
     "execution_count": 57,
     "metadata": {},
     "output_type": "execute_result"
    }
   ],
   "source": [
    "#int('Apple') # Error\n",
    "#float('Apple') # Error\n",
    "bool('Apple') # True"
   ]
  },
  {
   "cell_type": "code",
   "execution_count": 63,
   "id": "46129728-cb5b-407a-9d05-4925c5441728",
   "metadata": {},
   "outputs": [
    {
     "data": {
      "text/plain": [
       "True"
      ]
     },
     "execution_count": 63,
     "metadata": {},
     "output_type": "execute_result"
    }
   ],
   "source": [
    "bool('0') # empty string\n",
    "\n",
    "# 10 is a string\n",
    "# True === ON\n",
    "# False === OFF === 0 === ''"
   ]
  },
  {
   "cell_type": "code",
   "execution_count": 87,
   "id": "99b1458f-7e29-4f0e-be76-ce6bb4daea02",
   "metadata": {},
   "outputs": [
    {
     "data": {
      "text/plain": [
       "True"
      ]
     },
     "execution_count": 87,
     "metadata": {},
     "output_type": "execute_result"
    }
   ],
   "source": [
    "bool('')\n",
    "bool(0)\n",
    "bool(0.0)\n",
    "bool('0')\n",
    "bool('0.0')\n",
    "bool('10')\n",
    "bool('10.5')\n",
    "bool('Apple')"
   ]
  },
  {
   "cell_type": "code",
   "execution_count": null,
   "id": "ec6b6620-486e-4a4d-a62a-c364ae379757",
   "metadata": {},
   "outputs": [],
   "source": []
  },
  {
   "cell_type": "code",
   "execution_count": 65,
   "id": "489feb2f-9e7c-414c-b9c1-18a9bc6436c5",
   "metadata": {},
   "outputs": [
    {
     "ename": "ValueError",
     "evalue": "invalid literal for int() with base 10: '10.5'",
     "output_type": "error",
     "traceback": [
      "\u001b[0;31m---------------------------------------------------------------------------\u001b[0m",
      "\u001b[0;31mValueError\u001b[0m                                Traceback (most recent call last)",
      "Cell \u001b[0;32mIn[65], line 2\u001b[0m\n\u001b[1;32m      1\u001b[0m \u001b[38;5;28mint\u001b[39m(\u001b[38;5;124m'\u001b[39m\u001b[38;5;124m10\u001b[39m\u001b[38;5;124m'\u001b[39m)\n\u001b[0;32m----> 2\u001b[0m \u001b[38;5;28mint\u001b[39m(\u001b[38;5;124m'\u001b[39m\u001b[38;5;124m10.5\u001b[39m\u001b[38;5;124m'\u001b[39m)\n",
      "\u001b[0;31mValueError\u001b[0m: invalid literal for int() with base 10: '10.5'"
     ]
    }
   ],
   "source": [
    "int('10') # works\n",
    "int('10.5') # Fail"
   ]
  },
  {
   "cell_type": "code",
   "execution_count": 69,
   "id": "a0588d6d-8ba4-466c-9746-d222771ec5f3",
   "metadata": {},
   "outputs": [
    {
     "data": {
      "text/plain": [
       "10.5"
      ]
     },
     "execution_count": 69,
     "metadata": {},
     "output_type": "execute_result"
    }
   ],
   "source": [
    "float('10') # 10.0\n",
    "float('10.5') # 10.5"
   ]
  },
  {
   "cell_type": "code",
   "execution_count": 71,
   "id": "db3bfe56-9be1-4dd0-a3fd-b3dbaa5f9734",
   "metadata": {},
   "outputs": [
    {
     "data": {
      "text/plain": [
       "10"
      ]
     },
     "execution_count": 71,
     "metadata": {},
     "output_type": "execute_result"
    }
   ],
   "source": [
    "int(10.5) # because int and number 10.5 belongs to numerical family\n",
    "# int('10.5') # fails"
   ]
  },
  {
   "cell_type": "code",
   "execution_count": 73,
   "id": "6b78bb33-e0e0-4770-a918-eb46318c5ffa",
   "metadata": {},
   "outputs": [
    {
     "data": {
      "text/plain": [
       "10"
      ]
     },
     "execution_count": 73,
     "metadata": {},
     "output_type": "execute_result"
    }
   ],
   "source": [
    "int(float('10.5'))"
   ]
  },
  {
   "cell_type": "code",
   "execution_count": null,
   "id": "faf601c7-a354-49e3-b193-904a8507ebda",
   "metadata": {},
   "outputs": [],
   "source": []
  }
 ],
 "metadata": {
  "kernelspec": {
   "display_name": "Python 3 (ipykernel)",
   "language": "python",
   "name": "python3"
  },
  "language_info": {
   "codemirror_mode": {
    "name": "ipython",
    "version": 3
   },
   "file_extension": ".py",
   "mimetype": "text/x-python",
   "name": "python",
   "nbconvert_exporter": "python",
   "pygments_lexer": "ipython3",
   "version": "3.12.7"
  }
 },
 "nbformat": 4,
 "nbformat_minor": 5
}
