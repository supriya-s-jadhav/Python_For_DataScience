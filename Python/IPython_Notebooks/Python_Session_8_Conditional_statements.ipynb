{
 "cells": [
  {
   "cell_type": "markdown",
   "id": "2621646e-99ec-4627-9393-77a9fb16bdfa",
   "metadata": {},
   "source": [
    "## Conditional Statements\n",
    "\n",
    "- conditiona statements refers to execute the code based on some solutions\n",
    "  \n",
    "- we have mainly three types\n",
    "\n",
    "    - if\n",
    "\n",
    "    - if else\n",
    " \n",
    "    - if elif else"
   ]
  },
  {
   "cell_type": "markdown",
   "id": "b3c2d497-4ad7-4bff-98d4-996e3ab3bf0c",
   "metadata": {},
   "source": [
    "**syntax**"
   ]
  },
  {
   "cell_type": "code",
   "execution_count": null,
   "id": "739f2132-663e-454e-b5f7-dccbe7bc2d57",
   "metadata": {},
   "outputs": [],
   "source": [
    "if <condition>:\n",
    "    # write your logic here"
   ]
  },
  {
   "cell_type": "code",
   "execution_count": 9,
   "id": "4040ef6c-889c-41e2-966a-a42e77a60b81",
   "metadata": {},
   "outputs": [
    {
     "name": "stdout",
     "output_type": "stream",
     "text": [
      "correct condition\n"
     ]
    }
   ],
   "source": [
    "num=10\n",
    "if num>0:\n",
    "    print('correct condition')"
   ]
  },
  {
   "cell_type": "markdown",
   "id": "0aacbc52-7a4b-4650-bd2d-fa226437bd9e",
   "metadata": {},
   "source": [
    "**indentation error**"
   ]
  },
  {
   "cell_type": "code",
   "execution_count": 12,
   "id": "e226d145-aafc-49cb-84a0-6f114b9af4ec",
   "metadata": {},
   "outputs": [
    {
     "ename": "IndentationError",
     "evalue": "expected an indented block after 'if' statement on line 2 (2056489480.py, line 3)",
     "output_type": "error",
     "traceback": [
      "\u001b[0;36m  Cell \u001b[0;32mIn[12], line 3\u001b[0;36m\u001b[0m\n\u001b[0;31m    print('correct condition')\u001b[0m\n\u001b[0m    ^\u001b[0m\n\u001b[0;31mIndentationError\u001b[0m\u001b[0;31m:\u001b[0m expected an indented block after 'if' statement on line 2\n"
     ]
    }
   ],
   "source": [
    "num=10\n",
    "if num>0:\n",
    "print('correct condition')"
   ]
  },
  {
   "cell_type": "code",
   "execution_count": null,
   "id": "fd36ec06-ae14-4942-9ae6-3f6d067b79d3",
   "metadata": {},
   "outputs": [],
   "source": []
  }
 ],
 "metadata": {
  "kernelspec": {
   "display_name": "Python 3 (ipykernel)",
   "language": "python",
   "name": "python3"
  },
  "language_info": {
   "codemirror_mode": {
    "name": "ipython",
    "version": 3
   },
   "file_extension": ".py",
   "mimetype": "text/x-python",
   "name": "python",
   "nbconvert_exporter": "python",
   "pygments_lexer": "ipython3",
   "version": "3.12.7"
  }
 },
 "nbformat": 4,
 "nbformat_minor": 5
}
