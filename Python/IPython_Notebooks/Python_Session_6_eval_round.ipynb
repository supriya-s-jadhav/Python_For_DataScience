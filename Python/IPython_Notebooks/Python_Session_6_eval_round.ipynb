{
 "cells": [
  {
   "cell_type": "markdown",
   "id": "0b005f32-d3df-4ed0-9b7c-a6111256c5c0",
   "metadata": {},
   "source": [
    "**input**\n",
    "- In python, user can provide the values from keyboard using **input**"
   ]
  },
  {
   "cell_type": "code",
   "execution_count": 6,
   "id": "6dd2e631-407e-45ff-bfa5-5655ede07599",
   "metadata": {},
   "outputs": [
    {
     "name": "stdin",
     "output_type": "stream",
     "text": [
      " 30\n"
     ]
    },
    {
     "data": {
      "text/plain": [
       "'30'"
      ]
     },
     "execution_count": 6,
     "metadata": {},
     "output_type": "execute_result"
    }
   ],
   "source": [
    "input()"
   ]
  },
  {
   "cell_type": "code",
   "execution_count": 10,
   "id": "389ea2f4-710f-4df6-bacb-f41dae668516",
   "metadata": {},
   "outputs": [
    {
     "name": "stdin",
     "output_type": "stream",
     "text": [
      "Enter your name :  Supriya\n",
      "Enter your location :  Bay Area USA\n"
     ]
    },
    {
     "data": {
      "text/plain": [
       "'Bay Area USA'"
      ]
     },
     "execution_count": 10,
     "metadata": {},
     "output_type": "execute_result"
    }
   ],
   "source": [
    "input('Enter your name : ')\n",
    "input('Enter your location : ')"
   ]
  },
  {
   "cell_type": "code",
   "execution_count": 14,
   "id": "1af7ca7b-55e5-4e77-bdc3-7637b6460c5c",
   "metadata": {},
   "outputs": [
    {
     "name": "stdin",
     "output_type": "stream",
     "text": [
      "Enter value1: 10\n",
      "Enter value2: 20\n"
     ]
    },
    {
     "name": "stdout",
     "output_type": "stream",
     "text": [
      "1020\n"
     ]
    }
   ],
   "source": [
    "num1=input('Enter value1:') # '10'\n",
    "num2=input('Enter value2:') # '20'\n",
    "print(num1+num2) # 1020"
   ]
  },
  {
   "cell_type": "code",
   "execution_count": 20,
   "id": "d11455e7-82b3-49fe-a599-2a05c06b5af0",
   "metadata": {},
   "outputs": [
    {
     "name": "stdin",
     "output_type": "stream",
     "text": [
      "Enter value1: 10\n",
      "Enter value2: 20\n"
     ]
    },
    {
     "name": "stdout",
     "output_type": "stream",
     "text": [
      "30\n"
     ]
    },
    {
     "name": "stdin",
     "output_type": "stream",
     "text": [
      "Enter value1: 30\n",
      "Enter value2: 40\n"
     ]
    },
    {
     "name": "stdout",
     "output_type": "stream",
     "text": [
      "70\n"
     ]
    }
   ],
   "source": [
    "## method 1: preferred method\n",
    "num1=int(input('Enter value1:')) # '10'\n",
    "num2=int(input('Enter value2:')) # '20'\n",
    "print(num1+num2) \n",
    "\n",
    "## method 2\n",
    "num1=input('Enter value1:') # '10'\n",
    "num2=input('Enter value2:') # '20'\n",
    "add=int(num1)+int(num2)\n",
    "print(add) "
   ]
  },
  {
   "cell_type": "code",
   "execution_count": 23,
   "id": "34185113-16dd-4b49-b3bf-020e4e419ac7",
   "metadata": {},
   "outputs": [
    {
     "name": "stdin",
     "output_type": "stream",
     "text": [
      "Enter random value : 10\n",
      "Enter random value :  10.10\n"
     ]
    },
    {
     "ename": "ValueError",
     "evalue": "invalid literal for int() with base 10: '10.10'",
     "output_type": "error",
     "traceback": [
      "\u001b[0;31m---------------------------------------------------------------------------\u001b[0m",
      "\u001b[0;31mValueError\u001b[0m                                Traceback (most recent call last)",
      "Cell \u001b[0;32mIn[23], line 2\u001b[0m\n\u001b[1;32m      1\u001b[0m num3\u001b[38;5;241m=\u001b[39m\u001b[38;5;28mfloat\u001b[39m(\u001b[38;5;28minput\u001b[39m(\u001b[38;5;124m'\u001b[39m\u001b[38;5;124mEnter random value :\u001b[39m\u001b[38;5;124m'\u001b[39m))\n\u001b[0;32m----> 2\u001b[0m num4\u001b[38;5;241m=\u001b[39m\u001b[38;5;28mint\u001b[39m(\u001b[38;5;28minput\u001b[39m(\u001b[38;5;124m'\u001b[39m\u001b[38;5;124mEnter random value : \u001b[39m\u001b[38;5;124m'\u001b[39m))\n",
      "\u001b[0;31mValueError\u001b[0m: invalid literal for int() with base 10: '10.10'"
     ]
    }
   ],
   "source": [
    "num3=float(input('Enter random value :'))\n",
    "num4=int(input('Enter random value : ')) # gives error for float value"
   ]
  },
  {
   "cell_type": "markdown",
   "id": "754d163d-ce74-4e94-8d3f-01a2aa60c28e",
   "metadata": {},
   "source": [
    "**eval**\n",
    "\n",
    "- eval represents math term **evaluate**\n",
    "- instead of focusing on int float all the time. simply use **eval** conversion always\n",
    "- if you apply eval, it will convert the value based on base data type\n",
    "- if user will provide the integer, it will convert into integer value\n",
    "- if user will provide the float, it will convert into float value\n",
    "- if user will provide the string, it will give error"
   ]
  },
  {
   "cell_type": "code",
   "execution_count": 29,
   "id": "89ee6b5a-5089-4e86-972b-30bbc8bc90b0",
   "metadata": {},
   "outputs": [
    {
     "name": "stdin",
     "output_type": "stream",
     "text": [
      "Enter random value:  10.5\n",
      "Enter random value: 10.5\n"
     ]
    },
    {
     "name": "stdout",
     "output_type": "stream",
     "text": [
      "The addition of 10.5 and 10.5 is 21.0\n"
     ]
    }
   ],
   "source": [
    "num1=eval(input('Enter random value: '))\n",
    "num2=eval(input('Enter random value:'))\n",
    "num1+num2\n",
    "print(f'The addition of {num1} and {num2} is {num1+num2}')"
   ]
  },
  {
   "cell_type": "markdown",
   "id": "245ad52f-8956-458b-b284-5c70fa22a245",
   "metadata": {},
   "source": [
    "- error1 : brackets never closed\n",
    "  - you open the bracket, you forgot to close\n",
    "- error2 : unterminated string literal\n",
    "  - check at the end of the string, quotes are provided or not"
   ]
  },
  {
   "cell_type": "code",
   "execution_count": null,
   "id": "983abb42-ba7d-40e2-a081-3fe4093dbe9f",
   "metadata": {},
   "outputs": [],
   "source": [
    "## WAP : ask the user to take three numbers from keyboard and print average\n",
    "\n",
    "## WAP : ask the user to take the breadth and height from keyboard and \n",
    "   # calcualte area of right angle triangle\n",
    "   # formula = 0.5*b*h\n",
    "\n",
    "## WAP take radius as input from keyboard\n",
    "   # calcualte area of circle\n",
    "   # formula = pi*r*r pi=3.14\n",
    "\n",
    "## WAP ask the user to enter the bill amount \n",
    "  # ask the user to provide tip amount \n",
    "  # calculate total bill\n",
    "\n",
    "## WAP ask the user to enter the bill amount\n",
    "  # ask the user tip percentage\n",
    "  # calculate the total bill"
   ]
  },
  {
   "cell_type": "code",
   "execution_count": 73,
   "id": "f4b718e2-3d38-46ac-a93c-1046b495ebed",
   "metadata": {},
   "outputs": [
    {
     "name": "stdout",
     "output_type": "stream",
     "text": [
      "input three numbers from user and find the average\n"
     ]
    },
    {
     "name": "stdin",
     "output_type": "stream",
     "text": [
      "enter number 1 :  1\n",
      "enter number 2 : 11\n",
      "enter number 3 :  47\n"
     ]
    },
    {
     "name": "stdout",
     "output_type": "stream",
     "text": [
      "Average of 1, 11, 47 is 19.67\n"
     ]
    }
   ],
   "source": [
    "## WAP : ask the user to take three numbers from keyboard and print average\n",
    "\n",
    "print(f'input three numbers from user and find the average')\n",
    "number1=eval(input('enter number 1 : '))\n",
    "number2=eval(input('enter number 2 :'))\n",
    "number3=eval(input('enter number 3 : '))\n",
    "avg=(number1+number2+number3)/3\n",
    "avg1=round(avg,2)\n",
    "print(f'Average of {number1}, {number2}, {number3} is {avg1}')"
   ]
  },
  {
   "cell_type": "code",
   "execution_count": 51,
   "id": "bce28813-5137-466b-8127-b92d85e3f00e",
   "metadata": {},
   "outputs": [
    {
     "name": "stdout",
     "output_type": "stream",
     "text": [
      "Calculate the area of right angle triangle\n"
     ]
    },
    {
     "name": "stdin",
     "output_type": "stream",
     "text": [
      "Enter height : 10\n",
      "Enter breadth : 30\n"
     ]
    },
    {
     "name": "stdout",
     "output_type": "stream",
     "text": [
      "Area of right angle triangle 150.0\n"
     ]
    }
   ],
   "source": [
    "## WAP : ask the user to take the breadth and height from keyboard and \n",
    "   # calcualte area of right angle triangle\n",
    "   # formula = 0.5*b*h\n",
    "print(f'Calculate the area of right angle triangle')\n",
    "h=eval(input('Enter height :'))\n",
    "b=eval(input('Enter breadth :'))\n",
    "area=0.5*h*b\n",
    "print(f'Area of right angle triangle {area}')"
   ]
  },
  {
   "cell_type": "code",
   "execution_count": 53,
   "id": "3d0e2574-fcbd-4600-a65e-bf8034ffcd61",
   "metadata": {},
   "outputs": [
    {
     "name": "stdout",
     "output_type": "stream",
     "text": [
      "Calculate the area of circle\n"
     ]
    },
    {
     "name": "stdin",
     "output_type": "stream",
     "text": [
      "Enter radius : 5\n"
     ]
    },
    {
     "name": "stdout",
     "output_type": "stream",
     "text": [
      "Area of circle 78.5\n"
     ]
    }
   ],
   "source": [
    "## WAP take radius as input from keyboard\n",
    "   # calcualte area of circle\n",
    "   # formula = pi*r*r pi=3.14\n",
    "print(f'Calculate the area of circle')\n",
    "r=eval(input('Enter radius :'))\n",
    "pi=3.14\n",
    "area=pi*r*r\n",
    "print(f'Area of circle {area}')"
   ]
  },
  {
   "cell_type": "code",
   "execution_count": 79,
   "id": "91097de4-0fb0-415e-ace0-9b334da8e1be",
   "metadata": {},
   "outputs": [
    {
     "name": "stdout",
     "output_type": "stream",
     "text": [
      "Calculate total bill\n"
     ]
    },
    {
     "name": "stdin",
     "output_type": "stream",
     "text": [
      "Total bill amount : 1000\n",
      "Tip amouunt : 50\n"
     ]
    },
    {
     "name": "stdout",
     "output_type": "stream",
     "text": [
      "Total bill amount is $1050\n"
     ]
    }
   ],
   "source": [
    "## WAP ask the user to enter the bill amount \n",
    "  # ask the user to provide tip amount \n",
    "  # calculate total bill\n",
    "\n",
    "print(f'Calculate total bill')\n",
    "bill_amount=eval(input('Total bill amount :'))\n",
    "tip_amount=eval(input('Tip amouunt :'))\n",
    "total=bill_amount+tip_amount\n",
    "print(f'Total bill amount is ${total}')\n"
   ]
  },
  {
   "cell_type": "code",
   "execution_count": 77,
   "id": "e379b1c2-c12f-47ee-af78-95eacc46dc92",
   "metadata": {},
   "outputs": [
    {
     "name": "stdout",
     "output_type": "stream",
     "text": [
      "Calculate total bill\n"
     ]
    },
    {
     "name": "stdin",
     "output_type": "stream",
     "text": [
      "Total bill amount : 1000\n",
      "Tip percentage : 1\n"
     ]
    },
    {
     "name": "stdout",
     "output_type": "stream",
     "text": [
      "Total bill is $1010.0\n"
     ]
    }
   ],
   "source": [
    "## WAP ask the user to enter the bill amount\n",
    "  # ask the user tip percentage\n",
    "  # calculate the total bill\n",
    "\n",
    "print(f'Calculate total bill')\n",
    "bill_amount=eval(input('Total bill amount :'))\n",
    "tip_per=eval(input('Tip percentage :'))\n",
    "tip_amount=bill_amount*(tip_per/100)\n",
    "total_bill=bill_amount+tip_amount\n",
    "print(f'Total bill is ${total_bill}')"
   ]
  },
  {
   "cell_type": "markdown",
   "id": "486cfe36-fb43-4839-ae4e-d8bb4137a69d",
   "metadata": {},
   "source": [
    "**round**"
   ]
  },
  {
   "cell_type": "code",
   "execution_count": 67,
   "id": "eee51ce6-b513-4fea-9097-97a216143889",
   "metadata": {},
   "outputs": [
    {
     "data": {
      "text/plain": [
       "10"
      ]
     },
     "execution_count": 67,
     "metadata": {},
     "output_type": "execute_result"
    }
   ],
   "source": [
    "round(10.00112233)"
   ]
  },
  {
   "cell_type": "code",
   "execution_count": 69,
   "id": "99bfe21d-dcfa-44b2-b218-c0aec42bae8f",
   "metadata": {},
   "outputs": [
    {
     "data": {
      "text/plain": [
       "10.001"
      ]
     },
     "execution_count": 69,
     "metadata": {},
     "output_type": "execute_result"
    }
   ],
   "source": [
    "round(10.00112233,3)"
   ]
  },
  {
   "cell_type": "code",
   "execution_count": null,
   "id": "3e581679-de3a-46b3-9184-8cbe1f25e923",
   "metadata": {},
   "outputs": [],
   "source": []
  }
 ],
 "metadata": {
  "kernelspec": {
   "display_name": "Python 3 (ipykernel)",
   "language": "python",
   "name": "python3"
  },
  "language_info": {
   "codemirror_mode": {
    "name": "ipython",
    "version": 3
   },
   "file_extension": ".py",
   "mimetype": "text/x-python",
   "name": "python",
   "nbconvert_exporter": "python",
   "pygments_lexer": "ipython3",
   "version": "3.12.7"
  }
 },
 "nbformat": 4,
 "nbformat_minor": 5
}
