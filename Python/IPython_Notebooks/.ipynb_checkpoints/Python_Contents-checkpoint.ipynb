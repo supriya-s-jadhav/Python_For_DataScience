{
 "cells": [
  {
   "cell_type": "markdown",
   "id": "e5a08adc-25b9-496d-b0c3-77783463b715",
   "metadata": {},
   "source": [
    " # Python for Data Science\n",
    " - Variables\n",
    "   \n",
    " - Data Types\n",
    "\n",
    " - Type Casting (Convert one data type to another data type)\n",
    "\n",
    " - Doc String (Conveying the information)\n",
    "\n",
    " - Print Statements\n",
    "\n",
    " - eval\n",
    "\n",
    " - packages\n"
   ]
  },
  {
   "cell_type": "code",
   "execution_count": null,
   "id": "6076eba2-2126-441d-9e59-c00536c67be5",
   "metadata": {},
   "outputs": [],
   "source": []
  }
 ],
 "metadata": {
  "kernelspec": {
   "display_name": "Python 3 (ipykernel)",
   "language": "python",
   "name": "python3"
  },
  "language_info": {
   "codemirror_mode": {
    "name": "ipython",
    "version": 3
   },
   "file_extension": ".py",
   "mimetype": "text/x-python",
   "name": "python",
   "nbconvert_exporter": "python",
   "pygments_lexer": "ipython3",
   "version": "3.12.7"
  }
 },
 "nbformat": 4,
 "nbformat_minor": 5
}
