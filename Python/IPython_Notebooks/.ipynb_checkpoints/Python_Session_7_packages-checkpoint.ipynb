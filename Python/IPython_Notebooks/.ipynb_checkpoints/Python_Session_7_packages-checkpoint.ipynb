{
 "cells": [
  {
   "cell_type": "markdown",
   "id": "ee1d02e6-9ff0-41bb-bb5c-609813c8e90e",
   "metadata": {},
   "source": [
    "## Packages"
   ]
  },
  {
   "cell_type": "markdown",
   "id": "5ad5a4b9-34fa-4afa-92ac-f540a43c8b57",
   "metadata": {},
   "source": [
    "**import**"
   ]
  },
  {
   "cell_type": "code",
   "execution_count": 4,
   "id": "a384019c-60a8-485c-a468-2eb575fe865d",
   "metadata": {},
   "outputs": [],
   "source": [
    "# import <package name>"
   ]
  },
  {
   "cell_type": "code",
   "execution_count": 6,
   "id": "0f5e94fb-decc-4d89-bdcd-a08aa82e1c68",
   "metadata": {},
   "outputs": [],
   "source": [
    "# package name : random\n",
    "import random"
   ]
  },
  {
   "cell_type": "code",
   "execution_count": 8,
   "id": "e9639a6a-a2ae-4bba-9636-fcc4970bb7a5",
   "metadata": {},
   "outputs": [],
   "source": [
    "# package name : math\n",
    "import math"
   ]
  },
  {
   "cell_type": "code",
   "execution_count": 10,
   "id": "7e7fbfaf-ee83-4f70-8c05-3dc20dd8e429",
   "metadata": {},
   "outputs": [],
   "source": [
    "# package name : keyword\n",
    "import keyword"
   ]
  },
  {
   "cell_type": "code",
   "execution_count": 12,
   "id": "1a779b8d-7c45-415d-b9bc-9bb30cf525f7",
   "metadata": {},
   "outputs": [],
   "source": [
    "# package name : string\n",
    "import string"
   ]
  },
  {
   "cell_type": "code",
   "execution_count": 14,
   "id": "0f9b500a-45d6-4717-a97d-cc89fde87de1",
   "metadata": {},
   "outputs": [],
   "source": [
    "#package name : time\n",
    "import time"
   ]
  },
  {
   "cell_type": "code",
   "execution_count": 16,
   "id": "1f16495b-dfa8-4253-99f9-f1c34fffe7ed",
   "metadata": {},
   "outputs": [],
   "source": [
    "# package name : cv2"
   ]
  },
  {
   "cell_type": "code",
   "execution_count": 18,
   "id": "6ffbccae-0bce-48c7-82ab-04f91dfe1e56",
   "metadata": {},
   "outputs": [],
   "source": [
    "import cv2"
   ]
  },
  {
   "cell_type": "code",
   "execution_count": 24,
   "id": "31de28ed-8c1a-40af-abf2-21d86771edc9",
   "metadata": {},
   "outputs": [
    {
     "data": {
      "text/plain": [
       "<module 'random' from '/opt/anaconda3/lib/python3.12/random.py'>"
      ]
     },
     "execution_count": 24,
     "metadata": {},
     "output_type": "execute_result"
    }
   ],
   "source": [
    "random"
   ]
  },
  {
   "cell_type": "markdown",
   "id": "db50ea1d-1ea2-4b5d-a8cc-b8e56ee5b5c8",
   "metadata": {},
   "source": [
    "**dir**"
   ]
  },
  {
   "cell_type": "code",
   "execution_count": 81,
   "id": "fb7972fb-8eb8-4b1e-98bd-85187a4aaeab",
   "metadata": {},
   "outputs": [
    {
     "name": "stdout",
     "output_type": "stream",
     "text": [
      "Help on method randint in module random:\n",
      "\n",
      "randint(a, b) method of random.Random instance\n",
      "    Return random integer in range [a, b], including both end points.\n",
      "\n"
     ]
    },
    {
     "data": {
      "text/plain": [
       "8"
      ]
     },
     "execution_count": 81,
     "metadata": {},
     "output_type": "execute_result"
    }
   ],
   "source": [
    "# step-1 import package_name\n",
    "# step-2 dir(package_name)\n",
    "# step-3 help(package_name.methodname)\n",
    "# step-4 apply the operation\n",
    "\n",
    "import random\n",
    "dir(random) # I want to use randint\n",
    "help(random.randint)  # I understood the story\n",
    "random.randint(1,20) \n",
    "# returns random number for every run\n",
    "# it can return 10 or 20, meaning includes both end points\n",
    "# range [a, b] :  square brackets representing inclusive"
   ]
  },
  {
   "cell_type": "markdown",
   "id": "4a7deb52-229f-4b1e-b6d9-745b793ff227",
   "metadata": {},
   "source": [
    "**help**"
   ]
  },
  {
   "cell_type": "code",
   "execution_count": 69,
   "id": "c8b03ec1-deaa-418f-b2e7-8b3e7cbd47fb",
   "metadata": {},
   "outputs": [
    {
     "name": "stdout",
     "output_type": "stream",
     "text": [
      "Help on built-in function random:\n",
      "\n",
      "random() method of random.Random instance\n",
      "    random() -> x in the interval [0, 1).\n",
      "\n"
     ]
    },
    {
     "data": {
      "text/plain": [
       "0.850900897538356"
      ]
     },
     "execution_count": 69,
     "metadata": {},
     "output_type": "execute_result"
    }
   ],
   "source": [
    "# package name : random\n",
    "# method name : random \n",
    "import random\n",
    "help(random.random)\n",
    "random.random()\n",
    "# shortcut for package/method information is\n",
    "# apply shift+tab"
   ]
  },
  {
   "cell_type": "code",
   "execution_count": 83,
   "id": "807556e7-3d2c-4c71-a73d-e9510b10b873",
   "metadata": {},
   "outputs": [
    {
     "name": "stdout",
     "output_type": "stream",
     "text": [
      "Help on method randrange in module random:\n",
      "\n",
      "randrange(start, stop=None, step=1) method of random.Random instance\n",
      "    Choose a random item from range(stop) or range(start, stop[, step]).\n",
      "\n",
      "    Roughly equivalent to ``choice(range(start, stop, step))`` but\n",
      "    supports arbitrarily large ranges and is optimized for common cases.\n",
      "\n"
     ]
    },
    {
     "data": {
      "text/plain": [
       "7"
      ]
     },
     "execution_count": 83,
     "metadata": {},
     "output_type": "execute_result"
    }
   ],
   "source": [
    "# package : random\n",
    "# method : randrange\n",
    "import random\n",
    "help(random.randrange)\n",
    "random.randrange(1,10,3)"
   ]
  },
  {
   "cell_type": "code",
   "execution_count": 89,
   "id": "7792e7ec-e9f3-4a6c-8f45-1834616139a0",
   "metadata": {},
   "outputs": [
    {
     "name": "stdout",
     "output_type": "stream",
     "text": [
      "1 ===== 4 ==== 0.6678944596689715\n"
     ]
    }
   ],
   "source": [
    "import random\n",
    "r1=random.randint(1,5)\n",
    "r2=random.randrange(2,20,2)\n",
    "r3=random.random()\n",
    "\n",
    "print(f'{r1} ===== {r2} ==== {r3}')"
   ]
  },
  {
   "cell_type": "code",
   "execution_count": 99,
   "id": "2098cd84-82aa-4b21-8bff-5c4a2c684804",
   "metadata": {},
   "outputs": [
    {
     "data": {
      "text/plain": [
       "0.8939966636005579"
      ]
     },
     "execution_count": 99,
     "metadata": {},
     "output_type": "execute_result"
    }
   ],
   "source": [
    "# package name = math\n",
    "# method name = pow (power)\n",
    "# method name = sqrt (square root)\n",
    "# method name = pi\n",
    "# math.pi\n",
    "# method name = sin\n",
    "# method name = cos\n",
    "\n",
    "import math\n",
    "math.pow(12,2) # returns 12 ^ 2\n",
    "math.sqrt(144) # returns square root of 144\n",
    "math.pi # constant value\n",
    "math.sin(90) #\n",
    "math.cos(30) #"
   ]
  },
  {
   "cell_type": "markdown",
   "id": "45b80643-1b90-4fa5-a5c6-b3aa63505b0f",
   "metadata": {},
   "source": [
    "**keyboard**\n",
    "- import the package\n",
    "- apply the dir\n",
    "- method name : kwlist"
   ]
  },
  {
   "cell_type": "code",
   "execution_count": 114,
   "id": "76caa257-933e-46cf-8466-7e6a216a9037",
   "metadata": {},
   "outputs": [
    {
     "name": "stdout",
     "output_type": "stream",
     "text": [
      "Help on list object:\n",
      "\n",
      "class list(object)\n",
      " |  list(iterable=(), /)\n",
      " |\n",
      " |  Built-in mutable sequence.\n",
      " |\n",
      " |  If no argument is given, the constructor creates a new empty list.\n",
      " |  The argument must be an iterable if specified.\n",
      " |\n",
      " |  Methods defined here:\n",
      " |\n",
      " |  __add__(self, value, /)\n",
      " |      Return self+value.\n",
      " |\n",
      " |  __contains__(self, key, /)\n",
      " |      Return bool(key in self).\n",
      " |\n",
      " |  __delitem__(self, key, /)\n",
      " |      Delete self[key].\n",
      " |\n",
      " |  __eq__(self, value, /)\n",
      " |      Return self==value.\n",
      " |\n",
      " |  __ge__(self, value, /)\n",
      " |      Return self>=value.\n",
      " |\n",
      " |  __getattribute__(self, name, /)\n",
      " |      Return getattr(self, name).\n",
      " |\n",
      " |  __getitem__(self, index, /)\n",
      " |      Return self[index].\n",
      " |\n",
      " |  __gt__(self, value, /)\n",
      " |      Return self>value.\n",
      " |\n",
      " |  __iadd__(self, value, /)\n",
      " |      Implement self+=value.\n",
      " |\n",
      " |  __imul__(self, value, /)\n",
      " |      Implement self*=value.\n",
      " |\n",
      " |  __init__(self, /, *args, **kwargs)\n",
      " |      Initialize self.  See help(type(self)) for accurate signature.\n",
      " |\n",
      " |  __iter__(self, /)\n",
      " |      Implement iter(self).\n",
      " |\n",
      " |  __le__(self, value, /)\n",
      " |      Return self<=value.\n",
      " |\n",
      " |  __len__(self, /)\n",
      " |      Return len(self).\n",
      " |\n",
      " |  __lt__(self, value, /)\n",
      " |      Return self<value.\n",
      " |\n",
      " |  __mul__(self, value, /)\n",
      " |      Return self*value.\n",
      " |\n",
      " |  __ne__(self, value, /)\n",
      " |      Return self!=value.\n",
      " |\n",
      " |  __repr__(self, /)\n",
      " |      Return repr(self).\n",
      " |\n",
      " |  __reversed__(self, /)\n",
      " |      Return a reverse iterator over the list.\n",
      " |\n",
      " |  __rmul__(self, value, /)\n",
      " |      Return value*self.\n",
      " |\n",
      " |  __setitem__(self, key, value, /)\n",
      " |      Set self[key] to value.\n",
      " |\n",
      " |  __sizeof__(self, /)\n",
      " |      Return the size of the list in memory, in bytes.\n",
      " |\n",
      " |  append(self, object, /)\n",
      " |      Append object to the end of the list.\n",
      " |\n",
      " |  clear(self, /)\n",
      " |      Remove all items from list.\n",
      " |\n",
      " |  copy(self, /)\n",
      " |      Return a shallow copy of the list.\n",
      " |\n",
      " |  count(self, value, /)\n",
      " |      Return number of occurrences of value.\n",
      " |\n",
      " |  extend(self, iterable, /)\n",
      " |      Extend list by appending elements from the iterable.\n",
      " |\n",
      " |  index(self, value, start=0, stop=9223372036854775807, /)\n",
      " |      Return first index of value.\n",
      " |\n",
      " |      Raises ValueError if the value is not present.\n",
      " |\n",
      " |  insert(self, index, object, /)\n",
      " |      Insert object before index.\n",
      " |\n",
      " |  pop(self, index=-1, /)\n",
      " |      Remove and return item at index (default last).\n",
      " |\n",
      " |      Raises IndexError if list is empty or index is out of range.\n",
      " |\n",
      " |  remove(self, value, /)\n",
      " |      Remove first occurrence of value.\n",
      " |\n",
      " |      Raises ValueError if the value is not present.\n",
      " |\n",
      " |  reverse(self, /)\n",
      " |      Reverse *IN PLACE*.\n",
      " |\n",
      " |  sort(self, /, *, key=None, reverse=False)\n",
      " |      Sort the list in ascending order and return None.\n",
      " |\n",
      " |      The sort is in-place (i.e. the list itself is modified) and stable (i.e. the\n",
      " |      order of two equal elements is maintained).\n",
      " |\n",
      " |      If a key function is given, apply it once to each list item and sort them,\n",
      " |      ascending or descending, according to their function values.\n",
      " |\n",
      " |      The reverse flag can be set to sort in descending order.\n",
      " |\n",
      " |  ----------------------------------------------------------------------\n",
      " |  Class methods defined here:\n",
      " |\n",
      " |  __class_getitem__(...)\n",
      " |      See PEP 585\n",
      " |\n",
      " |  ----------------------------------------------------------------------\n",
      " |  Static methods defined here:\n",
      " |\n",
      " |  __new__(*args, **kwargs)\n",
      " |      Create and return a new object.  See help(type) for accurate signature.\n",
      " |\n",
      " |  ----------------------------------------------------------------------\n",
      " |  Data and other attributes defined here:\n",
      " |\n",
      " |  __hash__ = None\n",
      "\n"
     ]
    },
    {
     "data": {
      "text/plain": [
       "35"
      ]
     },
     "execution_count": 114,
     "metadata": {},
     "output_type": "execute_result"
    }
   ],
   "source": [
    "import keyword\n",
    "help(keyword.kwlist)\n",
    "len(keyword.kwlist)"
   ]
  },
  {
   "cell_type": "markdown",
   "id": "51831272-422a-4a51-b57f-e1ab6b357852",
   "metadata": {},
   "source": [
    "**time**"
   ]
  },
  {
   "cell_type": "code",
   "execution_count": 118,
   "id": "8ba2183e-7ab2-4ef4-bb64-7021d2f53479",
   "metadata": {},
   "outputs": [
    {
     "name": "stdout",
     "output_type": "stream",
     "text": [
      "Type help() for interactive help, or help(object) for help about object.\n"
     ]
    }
   ],
   "source": [
    "import time\n",
    "time.sleep(5)\n",
    "print(help)"
   ]
  },
  {
   "cell_type": "markdown",
   "id": "6331af3f-83ba-4acb-8c5d-c89009c2615f",
   "metadata": {},
   "source": [
    "**string**"
   ]
  },
  {
   "cell_type": "code",
   "execution_count": 133,
   "id": "dc7939ce-d178-4f2b-8e04-6eafb154dabc",
   "metadata": {},
   "outputs": [
    {
     "name": "stdout",
     "output_type": "stream",
     "text": [
      "abcdefghijklmnopqrstuvwxyzABCDEFGHIJKLMNOPQRSTUVWXYZ\n",
      "abcdefghijklmnopqrstuvwxyz\n",
      "ABCDEFGHIJKLMNOPQRSTUVWXYZ\n",
      "!\"#$%&'()*+,-./:;<=>?@[\\]^_`{|}~\n"
     ]
    }
   ],
   "source": [
    "import string\n",
    "dir(string)\n",
    "print(string.ascii_letters)\n",
    "print(string.ascii_lowercase)\n",
    "print(string.ascii_uppercase)\n",
    "print(string.punctuation)"
   ]
  },
  {
   "cell_type": "code",
   "execution_count": null,
   "id": "b6b2da83-4375-4bea-87e6-3686242b51cc",
   "metadata": {},
   "outputs": [],
   "source": []
  }
 ],
 "metadata": {
  "kernelspec": {
   "display_name": "Python 3 (ipykernel)",
   "language": "python",
   "name": "python3"
  },
  "language_info": {
   "codemirror_mode": {
    "name": "ipython",
    "version": 3
   },
   "file_extension": ".py",
   "mimetype": "text/x-python",
   "name": "python",
   "nbconvert_exporter": "python",
   "pygments_lexer": "ipython3",
   "version": "3.12.7"
  }
 },
 "nbformat": 4,
 "nbformat_minor": 5
}
