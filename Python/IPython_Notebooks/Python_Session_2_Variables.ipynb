{
 "cells": [
  {
   "cell_type": "markdown",
   "id": "ce7b0614-bb29-45ca-bfef-ae927a3a0b22",
   "metadata": {},
   "source": [
    "### Day 02 : Variables"
   ]
  },
  {
   "cell_type": "code",
   "execution_count": 13,
   "id": "14525121-10bb-4afb-af5f-8f412e023b94",
   "metadata": {},
   "outputs": [
    {
     "data": {
      "text/plain": [
       "'/Users/supriyasampatjadhav/Documents/2025/GitRepositories/Python_For_DataScience/Python'"
      ]
     },
     "execution_count": 13,
     "metadata": {},
     "output_type": "execute_result"
    }
   ],
   "source": [
    "## get the python installed directory. \n",
    "## shortcut to get list of libraries is click 'tab'\n",
    "# getcwd stands for get current working directory\n",
    "\n",
    "import os\n",
    "os.getcwd() "
   ]
  },
  {
   "cell_type": "markdown",
   "id": "795a0ff1-970b-4176-af59-fd3a3677abda",
   "metadata": {},
   "source": [
    "## Variables\n",
    "- Variables are used to store the values, and the values can be changed."
   ]
  },
  {
   "cell_type": "code",
   "execution_count": 22,
   "id": "7177edeb-fa3e-4c7f-ac9d-ec0cd38c1905",
   "metadata": {},
   "outputs": [
    {
     "name": "stdout",
     "output_type": "stream",
     "text": [
      "100\n"
     ]
    }
   ],
   "source": [
    "# value 100 stored in a variable called : num\n",
    "num=100\n",
    "print(100)"
   ]
  },
  {
   "cell_type": "code",
   "execution_count": 24,
   "id": "27886a4b-8458-42c8-8a8c-bb66a9e98dbd",
   "metadata": {},
   "outputs": [
    {
     "name": "stdout",
     "output_type": "stream",
     "text": [
      "200\n"
     ]
    }
   ],
   "source": [
    "num=200\n",
    "print(200)"
   ]
  },
  {
   "cell_type": "code",
   "execution_count": 47,
   "id": "cb3a6a2d-a3e5-48ec-912b-eabb11bb70ef",
   "metadata": {},
   "outputs": [
    {
     "data": {
      "text/plain": [
       "(300, 200, 400, 600, 700, 200)"
      ]
     },
     "execution_count": 47,
     "metadata": {},
     "output_type": "execute_result"
    }
   ],
   "source": [
    "NUMBER=200 # works\n",
    "number=300 # works\n",
    "number123=400 # works\n",
    "NUMBERone=600 # works\n",
    "number_1=700 #works\n",
    "_=200 #Works\n",
    "number, NUMBER, number123, NUMBERone, number_1, _"
   ]
  },
  {
   "cell_type": "code",
   "execution_count": 42,
   "id": "dbd8be66-214c-4fca-9868-f01a9665d72f",
   "metadata": {},
   "outputs": [
    {
     "ename": "SyntaxError",
     "evalue": "invalid decimal literal (1093071417.py, line 1)",
     "output_type": "error",
     "traceback": [
      "\u001b[0;36m  Cell \u001b[0;32mIn[42], line 1\u001b[0;36m\u001b[0m\n\u001b[0;31m    123number=500 # NotWorks\u001b[0m\n\u001b[0m      ^\u001b[0m\n\u001b[0;31mSyntaxError\u001b[0m\u001b[0;31m:\u001b[0m invalid decimal literal\n"
     ]
    }
   ],
   "source": [
    "123number=500 # NotWorks\n",
    "number$one=700 #NotWorks\n",
    "number&one=700 #NotWorks\n",
    "number*one=700 #NotWorks\n",
    "number_one=700 #Works\n",
    "number one=700 #NotWorks\n",
    "if=100 #NotWorks\n",
    "_=200 #Works"
   ]
  },
  {
   "cell_type": "markdown",
   "id": "d08cae50-ae11-4cd5-8607-13a7039cb744",
   "metadata": {},
   "source": [
    "- variables can be Capital letters\n",
    "- variables can be small letters\n",
    "- Variables can be mix of both capital and small letters\n",
    "- Variables can be mix of letters and numbers as **suffix**\n",
    "- Variables can not be mix of letters and numbers as **prefix**\n",
    "- Variables can not be include special characters except **underscore**\n",
    "- Only underscrone also consider as variables\n",
    "- In-built keywords can not be variables"
   ]
  },
  {
   "cell_type": "code",
   "execution_count": null,
   "id": "eb9c03be-3932-4907-b51f-5c21d755d962",
   "metadata": {},
   "outputs": [],
   "source": []
  }
 ],
 "metadata": {
  "kernelspec": {
   "display_name": "Python 3 (ipykernel)",
   "language": "python",
   "name": "python3"
  },
  "language_info": {
   "codemirror_mode": {
    "name": "ipython",
    "version": 3
   },
   "file_extension": ".py",
   "mimetype": "text/x-python",
   "name": "python",
   "nbconvert_exporter": "python",
   "pygments_lexer": "ipython3",
   "version": "3.12.7"
  }
 },
 "nbformat": 4,
 "nbformat_minor": 5
}
