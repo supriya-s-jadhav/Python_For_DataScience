{
 "cells": [
  {
   "cell_type": "markdown",
   "id": "4b6dd486-f894-4883-a6d9-6c0431f77705",
   "metadata": {},
   "source": [
    "# Data Types"
   ]
  },
  {
   "cell_type": "markdown",
   "id": "b0bfdb28-1dd4-4e4f-8989-2e9648bf8c31",
   "metadata": {},
   "source": [
    "- Python can say data types of the value without initializing, which means the data type is automatically considered\n",
    "- Python has some inbuilt data type structure\n",
    "- int : integer\n",
    "- float\n",
    "- str : string\n",
    "- bool : boolean <br>\n",
    " **complex** \n",
    "- list\n",
    "- tuple\n",
    "- dict : dictionary\n",
    "- set\n",
    "- frozenset\n",
    "- bytes\n",
    "- bytearray\n",
    "- memoryview"
   ]
  },
  {
   "cell_type": "markdown",
   "id": "5cc26584-2373-4f16-b68e-1f6477a4b4e1",
   "metadata": {},
   "source": [
    "**integer**"
   ]
  },
  {
   "cell_type": "code",
   "execution_count": 20,
   "id": "d01cee03-fe26-444b-a3b6-84204ac82f36",
   "metadata": {},
   "outputs": [
    {
     "data": {
      "text/plain": [
       "int"
      ]
     },
     "execution_count": 20,
     "metadata": {},
     "output_type": "execute_result"
    }
   ],
   "source": [
    "num=100\n",
    "type(num) "
   ]
  },
  {
   "cell_type": "code",
   "execution_count": 22,
   "id": "d3de091e-e4f5-42e0-bd86-bb2561dd4fc8",
   "metadata": {},
   "outputs": [
    {
     "name": "stdout",
     "output_type": "stream",
     "text": [
      "100\n"
     ]
    }
   ],
   "source": [
    "print(num)"
   ]
  },
  {
   "cell_type": "markdown",
   "id": "7f10f0fc-e691-4b25-a1c3-d4110b7e8ded",
   "metadata": {},
   "source": [
    "**binary number system**\n",
    "- digits 0,1,2,3,4,5,6,7,8,9\n",
    "- binary : bi means two digits : 0 and 1\n",
    "- representation is : 0b001, 0b111, 0b101\n",
    "- wrong representation is : o, 0b102"
   ]
  },
  {
   "cell_type": "code",
   "execution_count": 36,
   "id": "aed6f828-782b-41ab-b584-0534f39629f0",
   "metadata": {},
   "outputs": [
    {
     "data": {
      "text/plain": [
       "10"
      ]
     },
     "execution_count": 36,
     "metadata": {},
     "output_type": "execute_result"
    }
   ],
   "source": [
    "0B1010 # (2^3)*1 (2^2)*0 (2^1)*1 (2^0)*0 = 8*1 + 4*0 + 2*1 + 1*0 = 8+0+2+0 = 10"
   ]
  },
  {
   "cell_type": "markdown",
   "id": "56f916c0-62ae-4911-9eca-6d8cd94553d7",
   "metadata": {},
   "source": [
    "**Octal number system**\n",
    "- digits 0,1,2,3,4,5,6,7,8,9\n",
    "- binary : octa means 8 : 0 1 2 3 4 5 6 7\n",
    "- representation is : 0o567, 0o123, 00765\n",
    "- wrong representation is : o as start letter, 0o789"
   ]
  },
  {
   "cell_type": "code",
   "execution_count": 34,
   "id": "3bc791d8-d1b3-4b50-bb2f-49600fab08c0",
   "metadata": {},
   "outputs": [
    {
     "data": {
      "text/plain": [
       "83"
      ]
     },
     "execution_count": 34,
     "metadata": {},
     "output_type": "execute_result"
    }
   ],
   "source": [
    "0o123c# (8^2)*1 (8^1)*2 (8^0)*3 = (64)*1 + (8)*2 + (1)*3 = 64 + 16 + 3 = 83"
   ]
  },
  {
   "cell_type": "markdown",
   "id": "8d18df2c-bcec-43e5-8eb4-46c0e79cb4cc",
   "metadata": {},
   "source": [
    "**hexa number system**\n",
    "- digits 0,1,2,3,4,5,6,7,8,9\n",
    "- binary : hexa means 16 : 0 1 2 3 4 5 6 7 8 9 A=10, B=11, C=12, D=13, E=14, F=15\n",
    "- representation is : 0x567, 0X123, 0Xabc\n",
    "- wrong representation is : o as start letter, 0h67"
   ]
  },
  {
   "cell_type": "code",
   "execution_count": 39,
   "id": "039d0295-c705-457d-885c-e2309bc37309",
   "metadata": {},
   "outputs": [
    {
     "data": {
      "text/plain": [
       "291"
      ]
     },
     "execution_count": 39,
     "metadata": {},
     "output_type": "execute_result"
    }
   ],
   "source": [
    "0X123"
   ]
  },
  {
   "cell_type": "markdown",
   "id": "1793cd57-6491-4208-87a3-b04acaa8fc44",
   "metadata": {},
   "source": [
    "**float**\n",
    "- float numbers means continues points\n",
    "- float numbers means having some decimals\n",
    "- integer number means discrete points"
   ]
  },
  {
   "cell_type": "code",
   "execution_count": 43,
   "id": "2584fb74-f595-4fdf-be6f-bdf7c300527a",
   "metadata": {},
   "outputs": [
    {
     "data": {
      "text/plain": [
       "float"
      ]
     },
     "execution_count": 43,
     "metadata": {},
     "output_type": "execute_result"
    }
   ],
   "source": [
    "number=100.25\n",
    "type(number)"
   ]
  },
  {
   "cell_type": "markdown",
   "id": "c26cd928-16da-4f44-9f00-30882eb07dab",
   "metadata": {},
   "source": [
    "- float points can repreasent as exponential format **e**"
   ]
  },
  {
   "cell_type": "code",
   "execution_count": 63,
   "id": "814129ae-11af-4e10-bfb5-23ad548b2ff2",
   "metadata": {},
   "outputs": [
    {
     "name": "stdout",
     "output_type": "stream",
     "text": [
      "10.0 100.0 1000.0 200.0\n"
     ]
    }
   ],
   "source": [
    "1e1 # 1*10\n",
    "1e2 # 1*100\n",
    "1e3 # 1*1000\n",
    "2e2 # 2*100\n",
    "print(1e1,1e2,1e3,2e2)"
   ]
  },
  {
   "cell_type": "code",
   "execution_count": 65,
   "id": "17662453-4a6d-4989-a161-6e136be40ecb",
   "metadata": {},
   "outputs": [
    {
     "name": "stdout",
     "output_type": "stream",
     "text": [
      "10.0 100.0 1000.0 200.0\n"
     ]
    }
   ],
   "source": [
    "1e+1 # 1*10\n",
    "1e+2 # 1*100\n",
    "1e+3 # 1*1000\n",
    "2e+2 # 2*100\n",
    "print(1e1,1e2,1e3,2e2)"
   ]
  },
  {
   "cell_type": "code",
   "execution_count": 69,
   "id": "86f79b31-4899-46da-8968-4f8108c5b28c",
   "metadata": {},
   "outputs": [
    {
     "name": "stdout",
     "output_type": "stream",
     "text": [
      "0.1 0.01 0.001 0.02\n"
     ]
    }
   ],
   "source": [
    "1e-1 # 1*1/10\n",
    "1e-2 # 1*1/100\n",
    "1e-3 # 1*1/1000\n",
    "2e-2 # 2*1/100\n",
    "print(1e-1,1e-2,1e-3,2e-2)"
   ]
  },
  {
   "cell_type": "code",
   "execution_count": 73,
   "id": "7a3d2400-ca9a-4a87-955c-b464f28f783b",
   "metadata": {},
   "outputs": [
    {
     "data": {
      "text/plain": [
       "1e-15"
      ]
     },
     "execution_count": 73,
     "metadata": {},
     "output_type": "execute_result"
    }
   ],
   "source": [
    "1e-15\n",
    "1/1000000000000000"
   ]
  },
  {
   "cell_type": "markdown",
   "id": "d92cd8f4-0bee-4ad2-b3a2-d0482442aae4",
   "metadata": {},
   "source": [
    "**Strings**\n",
    "- Strings means english characters\n",
    "- Entire sentence in single quotes, then use double quotes to highlight the word\n",
    "- Entire sentence in double quotes, then use single quotes to highlight the word"
   ]
  },
  {
   "cell_type": "code",
   "execution_count": 78,
   "id": "c096411d-9bcd-439b-805d-6070dfd34227",
   "metadata": {},
   "outputs": [
    {
     "data": {
      "text/plain": [
       "str"
      ]
     },
     "execution_count": 78,
     "metadata": {},
     "output_type": "execute_result"
    }
   ],
   "source": [
    "name=\"Python\"\n",
    "type(name)"
   ]
  },
  {
   "cell_type": "code",
   "execution_count": 80,
   "id": "91ef9e08-b15e-4443-8728-2ac41af8737e",
   "metadata": {},
   "outputs": [
    {
     "data": {
      "text/plain": [
       "str"
      ]
     },
     "execution_count": 80,
     "metadata": {},
     "output_type": "execute_result"
    }
   ],
   "source": [
    "number='10'\n",
    "type(number)"
   ]
  },
  {
   "cell_type": "code",
   "execution_count": 84,
   "id": "65a03397-4c8f-489a-980d-8ed389c6ddd8",
   "metadata": {},
   "outputs": [
    {
     "name": "stdout",
     "output_type": "stream",
     "text": [
      "Hello I like 'Python'\n"
     ]
    }
   ],
   "source": [
    "sen1=\"Hello I like 'Python'\"\n",
    "print(sen1)"
   ]
  },
  {
   "cell_type": "code",
   "execution_count": 86,
   "id": "d2f6eb77-f84a-4505-bf9f-bbdefe61a953",
   "metadata": {},
   "outputs": [
    {
     "name": "stdout",
     "output_type": "stream",
     "text": [
      "Hello I like \"Python\"\n"
     ]
    }
   ],
   "source": [
    "sen1='Hello I like \"Python\"'\n",
    "print(sen1)"
   ]
  },
  {
   "cell_type": "code",
   "execution_count": 88,
   "id": "f0ae3e16-8258-47af-ad09-d1d9e4420a20",
   "metadata": {},
   "outputs": [
    {
     "data": {
      "text/plain": [
       "'Python'"
      ]
     },
     "execution_count": 88,
     "metadata": {},
     "output_type": "execute_result"
    }
   ],
   "source": [
    "name='Python'\n",
    "name"
   ]
  },
  {
   "cell_type": "code",
   "execution_count": 92,
   "id": "83c8d067-1dd4-4a47-80f6-7340b6949bfc",
   "metadata": {},
   "outputs": [
    {
     "name": "stdout",
     "output_type": "stream",
     "text": [
      "Python\n"
     ]
    }
   ],
   "source": [
    "print(name) # prefer using print as best practices "
   ]
  },
  {
   "cell_type": "code",
   "execution_count": 98,
   "id": "9d00d97d-24f0-4f00-9f74-03ec1c7d7b3b",
   "metadata": {},
   "outputs": [
    {
     "name": "stdout",
     "output_type": "stream",
     "text": [
      "Hello I like 'Python'\n",
      "        Python for Data Science\n"
     ]
    }
   ],
   "source": [
    "## multiline comments should be in triple quotes\n",
    "\n",
    "sen3=\"\"\"Hello I like 'Python'\n",
    "        Python for Data Science\"\"\"\n",
    "print(sen3)"
   ]
  },
  {
   "cell_type": "markdown",
   "id": "1c1a551f-4ce4-4883-ab16-59e7cbcb6612",
   "metadata": {},
   "source": [
    "**Doc string**\n",
    "- If you want to convey information to the user, we will write the statements before coding part which is called Doc String\n",
    "- In jupyter notebook to convey information, we have **markdown**\n",
    "- In VS Code we don't have markdown, so we convey the information by using triple quotes.\n",
    "- If we see anywhere triple quotes means the user trying to convey the information"
   ]
  },
  {
   "cell_type": "code",
   "execution_count": 108,
   "id": "64a078b3-d85f-42f5-8434-f4db954f400c",
   "metadata": {},
   "outputs": [
    {
     "data": {
      "text/plain": [
       "'\\n write somethings\\n'"
      ]
     },
     "execution_count": 108,
     "metadata": {},
     "output_type": "execute_result"
    }
   ],
   "source": [
    "\"\"\"\n",
    " write something\n",
    " \"\"\"\n",
    "'''\n",
    " write somethings\n",
    "'''"
   ]
  },
  {
   "cell_type": "markdown",
   "id": "ae53e754-cd1b-4f8e-b35f-f6bd191e7e51",
   "metadata": {},
   "source": [
    "**Boolean**"
   ]
  },
  {
   "cell_type": "code",
   "execution_count": 112,
   "id": "be33efc3-2bd9-4850-919b-9cedbbddbd5f",
   "metadata": {},
   "outputs": [
    {
     "data": {
      "text/plain": [
       "bool"
      ]
     },
     "execution_count": 112,
     "metadata": {},
     "output_type": "execute_result"
    }
   ],
   "source": [
    "value=True\n",
    "type(value)"
   ]
  },
  {
   "cell_type": "code",
   "execution_count": null,
   "id": "c1236189-0ca5-40a9-bc1c-2aa472e6f713",
   "metadata": {},
   "outputs": [],
   "source": []
  }
 ],
 "metadata": {
  "kernelspec": {
   "display_name": "Python 3 (ipykernel)",
   "language": "python",
   "name": "python3"
  },
  "language_info": {
   "codemirror_mode": {
    "name": "ipython",
    "version": 3
   },
   "file_extension": ".py",
   "mimetype": "text/x-python",
   "name": "python",
   "nbconvert_exporter": "python",
   "pygments_lexer": "ipython3",
   "version": "3.12.7"
  }
 },
 "nbformat": 4,
 "nbformat_minor": 5
}
