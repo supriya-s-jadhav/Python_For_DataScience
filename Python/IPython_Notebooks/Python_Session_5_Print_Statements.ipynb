{
 "cells": [
  {
   "cell_type": "markdown",
   "id": "a2b92cbe-482b-4f48-a1b8-b3214d48c2dc",
   "metadata": {},
   "source": [
    "**print Statements**\n",
    "- basic\n",
    "\n",
    "- format\n",
    "\n",
    "- f string\n",
    "\n",
    "- end\n",
    "\n",
    "- sep"
   ]
  },
  {
   "cell_type": "code",
   "execution_count": 15,
   "id": "696a6fd7-3c6f-4661-b48a-f3d02ac724e2",
   "metadata": {},
   "outputs": [
    {
     "data": {
      "text/plain": [
       "20"
      ]
     },
     "execution_count": 15,
     "metadata": {},
     "output_type": "execute_result"
    }
   ],
   "source": [
    "# in jupyter notebook, only last variable value is printed.\n",
    "num1=10\n",
    "num2=20\n",
    "\n",
    "num1\n",
    "num2"
   ]
  },
  {
   "cell_type": "code",
   "execution_count": 9,
   "id": "4109938e-79ed-4453-9b90-1130c1ea754a",
   "metadata": {},
   "outputs": [
    {
     "name": "stdout",
     "output_type": "stream",
     "text": [
      "10\n",
      "20\n"
     ]
    }
   ],
   "source": [
    "print(num1)\n",
    "print(num2)"
   ]
  },
  {
   "cell_type": "code",
   "execution_count": 13,
   "id": "0ace3a70-1a8b-4239-b46c-dc2afd5b6d18",
   "metadata": {},
   "outputs": [
    {
     "name": "stdout",
     "output_type": "stream",
     "text": [
      "10\n",
      "20\n"
     ]
    },
    {
     "data": {
      "text/plain": [
       "(None, None)"
      ]
     },
     "execution_count": 13,
     "metadata": {},
     "output_type": "execute_result"
    }
   ],
   "source": [
    "# when suingprint statements side by side, \n",
    "# the value will be printed but not saved thatswhy it shows None\n",
    "# can use the variables side by side and no need to use print \n",
    "\n",
    "print(num1), print(num2) "
   ]
  },
  {
   "cell_type": "code",
   "execution_count": 17,
   "id": "eb243f82-eeba-4f7d-ae94-7acac451b7f4",
   "metadata": {},
   "outputs": [
    {
     "name": "stdout",
     "output_type": "stream",
     "text": [
      "10\n",
      "20\n",
      "10\n",
      "20\n",
      "10 20\n"
     ]
    }
   ],
   "source": [
    "num1=10\n",
    "num2=20\n",
    "print(num1)\n",
    "print(num2)\n",
    "\n",
    "######################\n",
    "\n",
    "num1=10\n",
    "num2=20\n",
    "print(num1), print(num2)\n",
    "num1, num2\n",
    "\n",
    "######################\n",
    "\n",
    "num1=10\n",
    "num2=20\n",
    "print(num1, num2)\n"
   ]
  },
  {
   "cell_type": "code",
   "execution_count": 19,
   "id": "bfe1c966-3eb0-4505-89ca-ef8a77a3f605",
   "metadata": {},
   "outputs": [
    {
     "name": "stdout",
     "output_type": "stream",
     "text": [
      "30 20 Python\n"
     ]
    }
   ],
   "source": [
    "print(30,20,'Python')"
   ]
  },
  {
   "cell_type": "code",
   "execution_count": 25,
   "id": "237dc80e-5ff3-475a-adac-bea8fec85e24",
   "metadata": {},
   "outputs": [
    {
     "name": "stdout",
     "output_type": "stream",
     "text": [
      "the additiona of 100 and 200 is 300\n"
     ]
    }
   ],
   "source": [
    "a=100\n",
    "b=200\n",
    "c=a+b\n",
    "# case : the additiona of 100 and 200 is 300\n",
    "print('the additiona of',a,'and',b,'is', c )"
   ]
  },
  {
   "cell_type": "code",
   "execution_count": 29,
   "id": "cd03c9f1-712a-4246-83d6-dc60d2a59bdc",
   "metadata": {},
   "outputs": [
    {
     "name": "stdout",
     "output_type": "stream",
     "text": [
      "My name is python im 10 years old and from Hyd\n"
     ]
    }
   ],
   "source": [
    "name='python'\n",
    "age=10\n",
    "city='Hyd'\n",
    "# case : My name is python im 10 years old and from hyd\n",
    "print('My name is',name,'im',age,'years old and from',city)"
   ]
  },
  {
   "cell_type": "markdown",
   "id": "5f5984b6-5275-46a4-969b-96e04c39135f",
   "metadata": {},
   "source": [
    "**format method**"
   ]
  },
  {
   "cell_type": "code",
   "execution_count": 34,
   "id": "4eda7e9c-d8e8-44c5-b193-7a465ddf10fb",
   "metadata": {},
   "outputs": [
    {
     "name": "stdout",
     "output_type": "stream",
     "text": [
      "the additiona of 100 and 200 is 300\n"
     ]
    }
   ],
   "source": [
    "a=100\n",
    "b=200\n",
    "c=a+b\n",
    "# case : the additiona of 100 and 200 is 300\n",
    "print('the additiona of {} and {} is {}'.format(a,b,c))"
   ]
  },
  {
   "cell_type": "code",
   "execution_count": 36,
   "id": "60c1130a-0ca1-4d05-9460-774d2f22784b",
   "metadata": {},
   "outputs": [
    {
     "name": "stdout",
     "output_type": "stream",
     "text": [
      "My name is python im 10 years old and from Hyd\n"
     ]
    }
   ],
   "source": [
    "name='python'\n",
    "age=10\n",
    "city='Hyd'\n",
    "# case : My name is python im 10 years old and from hyd\n",
    "print('My name is {} im {} years old and from {}'.format(name, age, city))"
   ]
  },
  {
   "cell_type": "markdown",
   "id": "3d8e4645-1c14-4351-a84a-d38e8cfd31f6",
   "metadata": {},
   "source": [
    "**f string method**"
   ]
  },
  {
   "cell_type": "code",
   "execution_count": 40,
   "id": "ccf1b00b-f460-4cb9-80b3-51595e5e7d24",
   "metadata": {},
   "outputs": [
    {
     "name": "stdout",
     "output_type": "stream",
     "text": [
      "the additiona of 100 and 200 is 300\n"
     ]
    }
   ],
   "source": [
    "a=100\n",
    "b=200\n",
    "c=a+b\n",
    "# case : the additiona of 100 and 200 is 300\n",
    "print(f'the additiona of {a} and {b} is {c}' )"
   ]
  },
  {
   "cell_type": "code",
   "execution_count": 43,
   "id": "6ac0e81e-4948-4160-8d5f-9933609da480",
   "metadata": {},
   "outputs": [
    {
     "name": "stdout",
     "output_type": "stream",
     "text": [
      "My name is python im 10 years old and from Hyd\n"
     ]
    }
   ],
   "source": [
    "name='python'\n",
    "age=10\n",
    "city='Hyd'\n",
    "# case : My name is python im 10 years old and from hyd\n",
    "print(f'My name is {name} im {age} years old and from {city}')"
   ]
  },
  {
   "cell_type": "code",
   "execution_count": 55,
   "id": "71de38a9-4665-4a8e-bd99-739604a0cc19",
   "metadata": {},
   "outputs": [
    {
     "name": "stdout",
     "output_type": "stream",
     "text": [
      "============= format method ================\n",
      "The addition of 100 and 200 is 300\n",
      "The subtraction of 100 and 200 is -100\n",
      "The multiplication of 100 and 200 is 20000\n",
      "The division of 100 and 200 is 0.5\n",
      "============= f string method ================\n",
      "The addition of 100 and 200 is 300\n",
      "The subtraction of 100 and 200 is -100\n",
      "The multiplication of 100 and 200 is 20000\n",
      "The division of 100 and 200 is 0.5\n"
     ]
    }
   ],
   "source": [
    "num1=100\n",
    "num2=200\n",
    "sub=num1-num2\n",
    "add=num1+num2\n",
    "mult=num1*num2\n",
    "div=num1/num2\n",
    "\n",
    "# format method:\n",
    "print('============= format method ================')\n",
    "print('The addition of {} and {} is {}'.format(num1,num2,num1+num2))\n",
    "print('The subtraction of {} and {} is {}'.format(num1,num2,num1-num2))\n",
    "print('The multiplication of {} and {} is {}'.format(num1,num2,num1*num2))\n",
    "print('The division of {} and {} is {}'.format(num1,num2,num1/num2))\n",
    "\n",
    "# f string method\n",
    "print('============= f string method ================')\n",
    "print(f'The addition of {num1} and {num2} is {num1+num2}')\n",
    "print(f'The subtraction of {num1} and {num2} is {num1-num2}')\n",
    "print(f'The multiplication of {num1} and {num2} is {num1*num2}')\n",
    "print(f'The division of {num1} and {num2} is {num1/num2}')"
   ]
  },
  {
   "cell_type": "markdown",
   "id": "41f3dc89-ecd3-40a4-b750-09f0ca95d793",
   "metadata": {},
   "source": [
    "$end$\n",
    "- end is a parameter of print statement\n",
    "- It is used to cpmbine multiple print statements"
   ]
  },
  {
   "cell_type": "code",
   "execution_count": 70,
   "id": "08eefe8d-87d4-43af-8927-5d3ff539ef16",
   "metadata": {},
   "outputs": [
    {
     "name": "stdout",
     "output_type": "stream",
     "text": [
      "20 ==> 30\n"
     ]
    }
   ],
   "source": [
    "print(20,end=' ==> ')\n",
    "print(30)"
   ]
  },
  {
   "cell_type": "markdown",
   "id": "f30ec2a8-1966-4cee-aa18-e18c3bce1859",
   "metadata": {},
   "source": [
    "$sep$\n",
    "- sep is a parameter of print statement\n",
    "- It is used to separate multiple variables in a single print statement"
   ]
  },
  {
   "cell_type": "code",
   "execution_count": 79,
   "id": "286c6c0d-4a26-4fd1-84f5-ff40d1f0583d",
   "metadata": {},
   "outputs": [
    {
     "name": "stdout",
     "output_type": "stream",
     "text": [
      "20=30=40\n"
     ]
    }
   ],
   "source": [
    "print(20,30,40,sep='=')"
   ]
  },
  {
   "cell_type": "code",
   "execution_count": 83,
   "id": "9e087b1d-75a2-4177-bb76-9fae3f2d4471",
   "metadata": {},
   "outputs": [
    {
     "name": "stdout",
     "output_type": "stream",
     "text": [
      "the addition of 3+4 is 7 .\n"
     ]
    }
   ],
   "source": [
    "print('the addition of 3+4 is',3+4,'.')\n",
    "# case : fix the print statement to give below statement\n",
    "# the addition of 3+4 is 7.\n",
    "# "
   ]
  },
  {
   "cell_type": "code",
   "execution_count": 101,
   "id": "664a9d38-bf62-470e-8b96-e21fc26ff78a",
   "metadata": {},
   "outputs": [
    {
     "name": "stdout",
     "output_type": "stream",
     "text": [
      "The addition of 3+4 is 7.\n",
      "The addition of 3+4 is 7.\n",
      "The addition of 3+4 is 7.\n"
     ]
    }
   ],
   "source": [
    "# format method\n",
    "print('The addition of 3+4 is {}.'.format(3+4))\n",
    "# f string \n",
    "print(f'The addition of 3+4 is {3+4}.')\n",
    "# sep \n",
    "print('The addition of 3+4 is ',3+4,'.',sep='')"
   ]
  },
  {
   "cell_type": "code",
   "execution_count": null,
   "id": "9a1d53bc-1c5f-4ad9-a11b-61e2edbdc342",
   "metadata": {},
   "outputs": [],
   "source": []
  }
 ],
 "metadata": {
  "kernelspec": {
   "display_name": "Python 3 (ipykernel)",
   "language": "python",
   "name": "python3"
  },
  "language_info": {
   "codemirror_mode": {
    "name": "ipython",
    "version": 3
   },
   "file_extension": ".py",
   "mimetype": "text/x-python",
   "name": "python",
   "nbconvert_exporter": "python",
   "pygments_lexer": "ipython3",
   "version": "3.12.7"
  }
 },
 "nbformat": 4,
 "nbformat_minor": 5
}
