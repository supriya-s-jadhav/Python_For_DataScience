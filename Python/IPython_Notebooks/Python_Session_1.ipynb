{
 "cells": [
  {
   "cell_type": "markdown",
   "id": "f4d08a7b-a621-490c-86c4-a580b1f80137",
   "metadata": {},
   "source": [
    "### Day 01\n",
    "- The file extension .ipynb stand for \"Interactive Python Notebook\"\n",
    "- It stores Python code, markdown, equations, visualizations, and outputs in a JSON format\n",
    "- These files allow interactive computing, where you can write code in cells and run them individually\n",
    "-  kernel\n",
    "-  white color dot : kernel is ready to do the job\n",
    "-  black color dot : kernel is already doing the job\n",
    "-  red color dot : kernel is dead\n",
    "-  In case kernel is dead, go to option at the top 'Kernel->Restart/Restart Kernel and Clear output of all Cells'\n",
    "-  select the cells always\n",
    "-  esc+m : code mode to markdown mode\n",
    "-  esc+y : markdown mode to code mode\n",
    "-  run : shift+enter"
   ]
  },
  {
   "cell_type": "markdown",
   "id": "ab0d60e7-3d62-4b5c-ae84-d11aabb587a3",
   "metadata": {},
   "source": [
    "# Python\n",
    "- when we use # symbol in code mode, it behaves as comment\n",
    "- when we use the same in markdown mode, it behaves as title"
   ]
  },
  {
   "cell_type": "code",
   "execution_count": 2,
   "id": "9cd9b5f7-cf11-45c9-8ea8-5dff788b9515",
   "metadata": {},
   "outputs": [
    {
     "data": {
      "text/plain": [
       "10"
      ]
     },
     "execution_count": 2,
     "metadata": {},
     "output_type": "execute_result"
    }
   ],
   "source": [
    "a=10\n",
    "a"
   ]
  },
  {
   "cell_type": "code",
   "execution_count": 18,
   "id": "b8a46609-2924-4f84-8ee0-4579816ee9e5",
   "metadata": {},
   "outputs": [
    {
     "data": {
      "text/plain": [
       "30"
      ]
     },
     "execution_count": 18,
     "metadata": {},
     "output_type": "execute_result"
    }
   ],
   "source": [
    "a=10\n",
    "b=20\n",
    "a+b"
   ]
  },
  {
   "cell_type": "code",
   "execution_count": null,
   "id": "38ccb3ea-6a8a-4e85-ad84-797c89b9709f",
   "metadata": {},
   "outputs": [],
   "source": [
    "for i in range(10):\n",
    "    print(i)\n",
    "# change the range value to 100000 if want to see kernel behavious"
   ]
  },
  {
   "cell_type": "markdown",
   "id": "3e05522c-f161-436a-827d-37b760bea0e8",
   "metadata": {},
   "source": [
    "- Impute image\n",
    "- Search the image on any search browsers (I used Google Chrome),\n",
    "- left click the image->inspect->edit as html->copy the image id code->paste it in python notebook in markdown cell\n",
    "- While handing over the project to clients, we write the documentation\n",
    "- we write the information like formulas, information, code etc"
   ]
  },
  {
   "cell_type": "markdown",
   "id": "9d19bf62-f42d-4a85-b21d-431188186098",
   "metadata": {},
   "source": [
    "## impute image\n",
    "<img id=\"dimg_TtqsaIOtFY6u0PEPhrH6yAY_21\" src=\"data:image/jpeg;base64,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\" class=\"YQ4gaf\" height=\"160\" style=\"object-position:55% 40%\" width=\"314\" alt=\"Python Programming Language\" data-csiid=\"TtqsaIOtFY6u0PEPhrH6yAY_6\" data-atf=\"1\">"
   ]
  },
  {
   "cell_type": "code",
   "execution_count": null,
   "id": "2ad0b33b-587e-4c18-8a27-97e1302f599f",
   "metadata": {},
   "outputs": [],
   "source": []
  }
 ],
 "metadata": {
  "kernelspec": {
   "display_name": "Python 3 (ipykernel)",
   "language": "python",
   "name": "python3"
  },
  "language_info": {
   "codemirror_mode": {
    "name": "ipython",
    "version": 3
   },
   "file_extension": ".py",
   "mimetype": "text/x-python",
   "name": "python",
   "nbconvert_exporter": "python",
   "pygments_lexer": "ipython3",
   "version": "3.12.7"
  }
 },
 "nbformat": 4,
 "nbformat_minor": 5
}
